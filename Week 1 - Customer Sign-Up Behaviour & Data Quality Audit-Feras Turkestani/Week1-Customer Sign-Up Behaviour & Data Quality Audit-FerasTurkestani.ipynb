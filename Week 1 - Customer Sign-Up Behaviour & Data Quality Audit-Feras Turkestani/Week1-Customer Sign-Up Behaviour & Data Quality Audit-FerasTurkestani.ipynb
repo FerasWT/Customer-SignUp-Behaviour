{
 "cells": [
  {
   "cell_type": "code",
   "execution_count": 292,
   "id": "8215a95d",
   "metadata": {},
   "outputs": [],
   "source": [
    "import pandas as pd\n",
    "import numpy as np"
   ]
  },
  {
   "cell_type": "code",
   "execution_count": 293,
   "id": "4b5be482",
   "metadata": {},
   "outputs": [],
   "source": [
    "#Read the Dataset\n",
    "df_csv= pd.read_csv('customer_signups.csv')"
   ]
  },
  {
   "cell_type": "code",
   "execution_count": 294,
   "id": "e75a9ec9",
   "metadata": {},
   "outputs": [
    {
     "name": "stdout",
     "output_type": "stream",
     "text": [
      "customer_id          2\n",
      "name                 9\n",
      "email               34\n",
      "signup_date          2\n",
      "source               9\n",
      "region              30\n",
      "plan_selected        8\n",
      "marketing_opt_in    10\n",
      "age                 12\n",
      "gender               8\n",
      "dtype: int64\n",
      "customer_id         object\n",
      "name                object\n",
      "email               object\n",
      "signup_date         object\n",
      "source              object\n",
      "region              object\n",
      "plan_selected       object\n",
      "marketing_opt_in    object\n",
      "age                 object\n",
      "gender              object\n",
      "dtype: object\n"
     ]
    },
    {
     "data": {
      "text/html": [
       "<div>\n",
       "<style scoped>\n",
       "    .dataframe tbody tr th:only-of-type {\n",
       "        vertical-align: middle;\n",
       "    }\n",
       "\n",
       "    .dataframe tbody tr th {\n",
       "        vertical-align: top;\n",
       "    }\n",
       "\n",
       "    .dataframe thead th {\n",
       "        text-align: right;\n",
       "    }\n",
       "</style>\n",
       "<table border=\"1\" class=\"dataframe\">\n",
       "  <thead>\n",
       "    <tr style=\"text-align: right;\">\n",
       "      <th></th>\n",
       "      <th>customer_id</th>\n",
       "      <th>name</th>\n",
       "      <th>email</th>\n",
       "      <th>signup_date</th>\n",
       "      <th>source</th>\n",
       "      <th>region</th>\n",
       "      <th>plan_selected</th>\n",
       "      <th>marketing_opt_in</th>\n",
       "      <th>age</th>\n",
       "      <th>gender</th>\n",
       "    </tr>\n",
       "  </thead>\n",
       "  <tbody>\n",
       "    <tr>\n",
       "      <th>0</th>\n",
       "      <td>CUST00000</td>\n",
       "      <td>Joshua Bryant</td>\n",
       "      <td>NaN</td>\n",
       "      <td>NaN</td>\n",
       "      <td>Instagram</td>\n",
       "      <td>NaN</td>\n",
       "      <td>basic</td>\n",
       "      <td>No</td>\n",
       "      <td>34</td>\n",
       "      <td>Female</td>\n",
       "    </tr>\n",
       "    <tr>\n",
       "      <th>1</th>\n",
       "      <td>CUST00001</td>\n",
       "      <td>Nicole Stewart</td>\n",
       "      <td>nicole1@example.com</td>\n",
       "      <td>02-01-24</td>\n",
       "      <td>LinkedIn</td>\n",
       "      <td>West</td>\n",
       "      <td>basic</td>\n",
       "      <td>Yes</td>\n",
       "      <td>29</td>\n",
       "      <td>Male</td>\n",
       "    </tr>\n",
       "    <tr>\n",
       "      <th>2</th>\n",
       "      <td>CUST00002</td>\n",
       "      <td>Rachel Allen</td>\n",
       "      <td>rachel2@example.com</td>\n",
       "      <td>03-01-24</td>\n",
       "      <td>Google</td>\n",
       "      <td>North</td>\n",
       "      <td>PREMIUM</td>\n",
       "      <td>Yes</td>\n",
       "      <td>34</td>\n",
       "      <td>Non-Binary</td>\n",
       "    </tr>\n",
       "    <tr>\n",
       "      <th>3</th>\n",
       "      <td>CUST00003</td>\n",
       "      <td>Zachary Sanchez</td>\n",
       "      <td>zachary3@mailhub.org</td>\n",
       "      <td>04-01-24</td>\n",
       "      <td>YouTube</td>\n",
       "      <td>NaN</td>\n",
       "      <td>Pro</td>\n",
       "      <td>No</td>\n",
       "      <td>40</td>\n",
       "      <td>Male</td>\n",
       "    </tr>\n",
       "    <tr>\n",
       "      <th>4</th>\n",
       "      <td>CUST00004</td>\n",
       "      <td>NaN</td>\n",
       "      <td>matthew4@mailhub.org</td>\n",
       "      <td>05-01-24</td>\n",
       "      <td>LinkedIn</td>\n",
       "      <td>West</td>\n",
       "      <td>Premium</td>\n",
       "      <td>No</td>\n",
       "      <td>25</td>\n",
       "      <td>Other</td>\n",
       "    </tr>\n",
       "    <tr>\n",
       "      <th>...</th>\n",
       "      <td>...</td>\n",
       "      <td>...</td>\n",
       "      <td>...</td>\n",
       "      <td>...</td>\n",
       "      <td>...</td>\n",
       "      <td>...</td>\n",
       "      <td>...</td>\n",
       "      <td>...</td>\n",
       "      <td>...</td>\n",
       "      <td>...</td>\n",
       "    </tr>\n",
       "    <tr>\n",
       "      <th>115</th>\n",
       "      <td>CUST00115</td>\n",
       "      <td>Kevin Day</td>\n",
       "      <td>kevin15@example.com</td>\n",
       "      <td>25-04-24</td>\n",
       "      <td>Facebook</td>\n",
       "      <td>East</td>\n",
       "      <td>Basic</td>\n",
       "      <td>Yes</td>\n",
       "      <td>25</td>\n",
       "      <td>Female</td>\n",
       "    </tr>\n",
       "    <tr>\n",
       "      <th>116</th>\n",
       "      <td>CUST00116</td>\n",
       "      <td>Daniel Leonard</td>\n",
       "      <td>daniel16@inboxmail.net</td>\n",
       "      <td>26-04-24</td>\n",
       "      <td>Instagram</td>\n",
       "      <td>East</td>\n",
       "      <td>Pro</td>\n",
       "      <td>Yes</td>\n",
       "      <td>thirty</td>\n",
       "      <td>Male</td>\n",
       "    </tr>\n",
       "    <tr>\n",
       "      <th>117</th>\n",
       "      <td>CUST00117</td>\n",
       "      <td>Ashley Stokes</td>\n",
       "      <td>NaN</td>\n",
       "      <td>27-04-24</td>\n",
       "      <td>YouTube</td>\n",
       "      <td>East</td>\n",
       "      <td>Basic</td>\n",
       "      <td>No</td>\n",
       "      <td>29</td>\n",
       "      <td>Other</td>\n",
       "    </tr>\n",
       "    <tr>\n",
       "      <th>118</th>\n",
       "      <td>CUST00118</td>\n",
       "      <td>Joseph Santiago</td>\n",
       "      <td>joseph18@example.com</td>\n",
       "      <td>28-04-24</td>\n",
       "      <td>Referral</td>\n",
       "      <td>North</td>\n",
       "      <td>basic</td>\n",
       "      <td>Yes</td>\n",
       "      <td>34</td>\n",
       "      <td>FEMALE</td>\n",
       "    </tr>\n",
       "    <tr>\n",
       "      <th>119</th>\n",
       "      <td>CUST00119</td>\n",
       "      <td>Rachel Kelley</td>\n",
       "      <td>rachel19@mailhub.org</td>\n",
       "      <td>29-04-24</td>\n",
       "      <td>Referral</td>\n",
       "      <td>North</td>\n",
       "      <td>PRO</td>\n",
       "      <td>NaN</td>\n",
       "      <td>47</td>\n",
       "      <td>Other</td>\n",
       "    </tr>\n",
       "  </tbody>\n",
       "</table>\n",
       "<p>120 rows × 10 columns</p>\n",
       "</div>"
      ],
      "text/plain": [
       "    customer_id             name                   email signup_date  \\\n",
       "0     CUST00000    Joshua Bryant                     NaN         NaN   \n",
       "1     CUST00001   Nicole Stewart     nicole1@example.com    02-01-24   \n",
       "2     CUST00002     Rachel Allen     rachel2@example.com    03-01-24   \n",
       "3     CUST00003  Zachary Sanchez    zachary3@mailhub.org    04-01-24   \n",
       "4     CUST00004              NaN    matthew4@mailhub.org    05-01-24   \n",
       "..          ...              ...                     ...         ...   \n",
       "115   CUST00115        Kevin Day     kevin15@example.com    25-04-24   \n",
       "116   CUST00116   Daniel Leonard  daniel16@inboxmail.net    26-04-24   \n",
       "117   CUST00117    Ashley Stokes                     NaN    27-04-24   \n",
       "118   CUST00118  Joseph Santiago    joseph18@example.com    28-04-24   \n",
       "119   CUST00119    Rachel Kelley    rachel19@mailhub.org    29-04-24   \n",
       "\n",
       "        source region plan_selected marketing_opt_in     age      gender  \n",
       "0    Instagram    NaN         basic               No      34      Female  \n",
       "1     LinkedIn   West         basic              Yes      29        Male  \n",
       "2       Google  North       PREMIUM              Yes      34  Non-Binary  \n",
       "3      YouTube    NaN           Pro               No      40        Male  \n",
       "4     LinkedIn   West       Premium               No      25       Other  \n",
       "..         ...    ...           ...              ...     ...         ...  \n",
       "115   Facebook   East         Basic              Yes      25      Female  \n",
       "116  Instagram   East           Pro              Yes  thirty        Male  \n",
       "117    YouTube   East         Basic               No      29       Other  \n",
       "118   Referral  North         basic              Yes      34      FEMALE  \n",
       "119   Referral  North           PRO              NaN      47       Other  \n",
       "\n",
       "[120 rows x 10 columns]"
      ]
     },
     "metadata": {},
     "output_type": "display_data"
    }
   ],
   "source": [
    "#Identify missing values, data types, and column structure\n",
    "print(df_csv.isnull().sum())\n",
    "print(df_csv.dtypes)\n",
    "display(df_csv.head(120))"
   ]
  },
  {
   "cell_type": "code",
   "execution_count": 295,
   "id": "89ccee4a",
   "metadata": {},
   "outputs": [
    {
     "name": "stderr",
     "output_type": "stream",
     "text": [
      "C:\\Users\\feras\\AppData\\Local\\Temp\\ipykernel_16828\\4201232429.py:2: UserWarning: Could not infer format, so each element will be parsed individually, falling back to `dateutil`. To ensure parsing is consistent and as-expected, please specify a format.\n",
      "  df_csv['signup_date']=pd.to_datetime(df_csv['signup_date'], errors='coerce')\n"
     ]
    }
   ],
   "source": [
    "#Convert signup_date to datetime\n",
    "df_csv['signup_date']=pd.to_datetime(df_csv['signup_date'], errors='coerce')\n",
    "df_csv = df_csv.dropna(subset=[\"signup_date\"])"
   ]
  },
  {
   "cell_type": "code",
   "execution_count": 296,
   "id": "1506a529",
   "metadata": {},
   "outputs": [
    {
     "name": "stdout",
     "output_type": "stream",
     "text": [
      "customer_id                 object\n",
      "name                        object\n",
      "email                       object\n",
      "signup_date         datetime64[ns]\n",
      "source                      object\n",
      "region                      object\n",
      "plan_selected               object\n",
      "marketing_opt_in            object\n",
      "age                         object\n",
      "gender                      object\n",
      "dtype: object\n"
     ]
    }
   ],
   "source": [
    "print(df_csv.dtypes)\n"
   ]
  },
  {
   "cell_type": "code",
   "execution_count": 297,
   "id": "27130645",
   "metadata": {},
   "outputs": [],
   "source": [
    "#Standardise inconsistent text values\n",
    "df_csv['plan_selected'] = df_csv['plan_selected'].str.strip().str.lower()\n",
    "df_csv['gender'] = df_csv['gender'].str.strip().str.lower()\n",
    "df_csv['gender']= df_csv['gender'].replace({\"123\":\"other\"})\n",
    "df_csv['age']=pd.to_numeric(df_csv['age'],errors='coerce')\n",
    "df_csv['source'] = df_csv['source'].str.strip().str.lower()\n",
    "df_csv['region'] = df_csv['region'].str.strip().str.lower()\n",
    "df_csv['marketing_opt_in'] = df_csv['marketing_opt_in'].str.strip().str.lower()"
   ]
  },
  {
   "cell_type": "code",
   "execution_count": 298,
   "id": "af02dc57",
   "metadata": {},
   "outputs": [],
   "source": [
    "#Remove duplicate rows based on customer_id\n",
    "initial_row_count = df_csv.shape[0]\n",
    "df_csv = df_csv.drop_duplicates(subset='customer_id')\n",
    "duplicates_removed = initial_row_count - df_csv.shape[0]"
   ]
  },
  {
   "cell_type": "code",
   "execution_count": 299,
   "id": "bd5472af",
   "metadata": {},
   "outputs": [],
   "source": [
    "#Handle missing values (e.g., region, email, age)\n",
    "df_csv['region'].fillna('unknown',inplace=True)\n",
    "#f_csv=df_csv.dropna(subset=['email'])\n",
    "df_csv['age'].fillna(df_csv['age'].median(),inplace=True)\n",
    "df_csv=df_csv.dropna(subset=['customer_id'])"
   ]
  },
  {
   "cell_type": "code",
   "execution_count": 300,
   "id": "123bccdd",
   "metadata": {},
   "outputs": [
    {
     "name": "stdout",
     "output_type": "stream",
     "text": [
      "Remaining missing values:\n",
      "customer_id          0\n",
      "name                 8\n",
      "email               33\n",
      "signup_date          0\n",
      "source               9\n",
      "region               0\n",
      "plan_selected        8\n",
      "marketing_opt_in    10\n",
      "age                  0\n",
      "gender               8\n",
      "dtype: int64\n"
     ]
    }
   ],
   "source": [
    "#Count of missing values per column\n",
    "print(\"Remaining missing values:\")\n",
    "print(df_csv.isnull().sum())\n"
   ]
  },
  {
   "cell_type": "code",
   "execution_count": 301,
   "id": "2e7faae3",
   "metadata": {},
   "outputs": [
    {
     "name": "stdout",
     "output_type": "stream",
     "text": [
      "                  Missing Values  % Missing\n",
      "customer_id                    0        0.0\n",
      "name                           8        2.7\n",
      "email                         33       11.3\n",
      "signup_date                    0        0.0\n",
      "source                         9        3.1\n",
      "region                         0        0.0\n",
      "plan_selected                  8        2.7\n",
      "marketing_opt_in              10        3.4\n",
      "age                            0        0.0\n",
      "gender                         8        2.7\n"
     ]
    }
   ],
   "source": [
    "#Count of missing values per column And % of missing values\n",
    "missing_count = df_csv.isnull().sum()\n",
    "missing_percent = (df_csv.isnull().sum() / len(df_csv)) * 100\n",
    "missing_df = pd.DataFrame({\n",
    "    'Missing Values': missing_count,\n",
    "    '% Missing': missing_percent.round(1)\n",
    "})\n",
    "print(missing_df)\n"
   ]
  },
  {
   "cell_type": "code",
   "execution_count": 302,
   "id": "1bcb0f66",
   "metadata": {},
   "outputs": [
    {
     "name": "stdout",
     "output_type": "stream",
     "text": [
      "Number of duplicates removed\n",
      " 1\n"
     ]
    }
   ],
   "source": [
    "#Number of duplicates removed\n",
    "print(\"Number of duplicates removed\\n\",duplicates_removed)"
   ]
  },
  {
   "cell_type": "code",
   "execution_count": 303,
   "id": "d8383768",
   "metadata": {},
   "outputs": [
    {
     "name": "stdout",
     "output_type": "stream",
     "text": [
      "signup_date\n",
      "2024-01-07    6\n",
      "2024-01-14    5\n",
      "2024-01-21    7\n",
      "2024-01-28    7\n",
      "2024-02-04    8\n",
      "2024-02-11    6\n",
      "2024-02-18    6\n",
      "2024-02-25    7\n",
      "2024-03-03    7\n",
      "2024-03-10    7\n",
      "2024-03-17    5\n",
      "2024-03-24    6\n",
      "2024-03-31    6\n",
      "2024-04-07    7\n",
      "2024-04-14    5\n",
      "2024-04-21    7\n",
      "2024-04-28    7\n",
      "2024-05-05    6\n",
      "2024-05-12    4\n",
      "2024-05-19    7\n",
      "2024-05-26    7\n",
      "2024-06-02    7\n",
      "2024-06-09    7\n",
      "2024-06-16    5\n",
      "2024-06-23    7\n",
      "2024-06-30    7\n",
      "2024-07-07    7\n",
      "2024-07-14    5\n",
      "2024-07-21    6\n",
      "2024-07-28    7\n",
      "2024-08-04    7\n",
      "2024-08-11    5\n",
      "2024-08-18    6\n",
      "2024-08-25    7\n",
      "2024-09-01    7\n",
      "2024-09-08    7\n",
      "2024-09-15    5\n",
      "2024-09-22    7\n",
      "2024-09-29    7\n",
      "2024-10-06    6\n",
      "2024-10-13    5\n",
      "2024-10-20    6\n",
      "2024-10-27    6\n",
      "2024-11-03    3\n",
      "2024-11-10    7\n",
      "2024-11-17    0\n",
      "2024-11-24    0\n",
      "2024-12-01    1\n",
      "2024-12-08    7\n",
      "2024-12-15    2\n",
      "Freq: W-SUN, dtype: int64\n"
     ]
    }
   ],
   "source": [
    "#Sign-ups per week (grouped by signup_date)\n",
    "signups_per_week= df_csv.groupby(pd.Grouper(key=\"signup_date\",freq=\"W\")).size()\n",
    "print(signups_per_week)"
   ]
  },
  {
   "cell_type": "code",
   "execution_count": 304,
   "id": "4b3c4ea8",
   "metadata": {},
   "outputs": [
    {
     "name": "stdout",
     "output_type": "stream",
     "text": [
      "\n",
      "Signups by Source: source\n",
      "youtube      56\n",
      "google       50\n",
      "referral     48\n",
      "instagram    47\n",
      "facebook     39\n",
      "linkedin     37\n",
      "??            6\n",
      "Name: count, dtype: int64\n",
      "\n",
      "Signups by region: region\n",
      "north      64\n",
      "east       61\n",
      "south      56\n",
      "west       44\n",
      "central    38\n",
      "unknown    29\n",
      "Name: count, dtype: int64\n",
      "\n",
      "Signups by plan_selected: plan_selected\n",
      "premium        97\n",
      "pro            93\n",
      "basic          88\n",
      "unknownplan     6\n",
      "Name: count, dtype: int64\n"
     ]
    }
   ],
   "source": [
    "# Sign-ups by source, region, and plan_selected\n",
    "print(\"\\nSignups by Source:\",df_csv['source'].value_counts())\n",
    "print(\"\\nSignups by region:\",df_csv['region'].value_counts())\n",
    "print(\"\\nSignups by plan_selected:\",df_csv['plan_selected'].value_counts())"
   ]
  },
  {
   "cell_type": "code",
   "execution_count": 305,
   "id": "36c53a02",
   "metadata": {},
   "outputs": [
    {
     "name": "stdout",
     "output_type": "stream",
     "text": [
      "\n",
      "Marketing opt-in counts by gender:\n",
      " gender      marketing_opt_in\n",
      "female      no                  46\n",
      "            yes                 41\n",
      "male        no                  50\n",
      "            yes                 36\n",
      "            nil                  1\n",
      "non-binary  no                  20\n",
      "            yes                 18\n",
      "other       no                  35\n",
      "            yes                 27\n",
      "Name: count, dtype: int64\n"
     ]
    }
   ],
   "source": [
    "#Marketing opt-in counts by gender\n",
    "print(\"\\nMarketing opt-in counts by gender:\\n\", df_csv.groupby('gender')['marketing_opt_in'].value_counts())"
   ]
  },
  {
   "cell_type": "code",
   "execution_count": 306,
   "id": "8bea9bd6",
   "metadata": {},
   "outputs": [
    {
     "name": "stdout",
     "output_type": "stream",
     "text": [
      "Age summary:\n",
      "Min Age: 21.0\n",
      "Max Age: 206.0\n",
      "Mean Age: 36.10958904109589\n",
      "Median Age: 34.0\n",
      "Null Count: 0\n"
     ]
    }
   ],
   "source": [
    "#Age summary\n",
    "print(\"Age summary:\")\n",
    "print(\"Min Age:\",df_csv['age'].min())\n",
    "print(\"Max Age:\",df_csv['age'].max())\n",
    "print(\"Mean Age:\",df_csv['age'].mean())\n",
    "print(\"Median Age:\",df_csv['age'].median())\n",
    "print(\"Null Count:\", df_csv['age'].isnull().sum())"
   ]
  },
  {
   "cell_type": "code",
   "execution_count": 307,
   "id": "7f28564b",
   "metadata": {},
   "outputs": [
    {
     "name": "stdout",
     "output_type": "stream",
     "text": [
      "instagram\n"
     ]
    }
   ],
   "source": [
    "#Which acquisition source brought in the most users last month?\n",
    "last_month = df_csv[\"signup_date\"].max().to_period(\"M\")\n",
    "last_month_df = df_csv[df_csv[\"signup_date\"].dt.to_period(\"M\") == last_month]\n",
    "most_source = last_month_df[\"source\"].value_counts().idxmax()\n",
    "print(most_source)"
   ]
  },
  {
   "cell_type": "code",
   "execution_count": 308,
   "id": "c4ce5c6d",
   "metadata": {},
   "outputs": [
    {
     "name": "stdout",
     "output_type": "stream",
     "text": [
      "         Total Missing\n",
      "region                \n",
      "central              8\n",
      "east                17\n",
      "north               21\n",
      "south               10\n",
      "unknown              6\n",
      "west                14\n"
     ]
    }
   ],
   "source": [
    "#Which region shows signs of missing or incomplete data?\n",
    "missing_by_region = df_csv.groupby(\"region\").apply(lambda group: group.isnull().sum())\n",
    "missing_by_region[\"Total Missing\"] = missing_by_region.sum(axis=1)\n",
    "total_missing_only = missing_by_region[[\"Total Missing\"]]\n",
    "print(total_missing_only)\n",
    "\n"
   ]
  },
  {
   "cell_type": "code",
   "execution_count": 309,
   "id": "400778ad",
   "metadata": {},
   "outputs": [
    {
     "name": "stdout",
     "output_type": "stream",
     "text": [
      "Older users opt-in:\tYes: 51 No: 58\n",
      "Younger users opt-in:\tYes: 75 No: 97\n"
     ]
    }
   ],
   "source": [
    "#Are older users more or less likely to opt in to marketing?\n",
    "median_age = df_csv['age'].median()\n",
    "older_users = df_csv[df_csv['age']>median_age]\n",
    "younger_users = df_csv[df_csv['age']<=median_age]\n",
    "\n",
    "opt_in_rate_older_y = (older_users['marketing_opt_in'] == 'yes').sum()\n",
    "opt_in_rate_older_n = (older_users['marketing_opt_in'] == 'no').sum()\n",
    "\n",
    "opt_in_rate_younger_y = (younger_users['marketing_opt_in'] == 'yes').sum()\n",
    "opt_in_rate_younger_n = (younger_users['marketing_opt_in'] == 'no').sum()\n",
    "\n",
    "print(\"Older users opt-in:\\tYes:\", opt_in_rate_older_y, \"No:\", opt_in_rate_older_n)\n",
    "print(\"Younger users opt-in:\\tYes:\", opt_in_rate_younger_y, \"No:\", opt_in_rate_younger_n)\n"
   ]
  },
  {
   "cell_type": "code",
   "execution_count": 310,
   "id": "30a081a1",
   "metadata": {},
   "outputs": [
    {
     "name": "stdout",
     "output_type": "stream",
     "text": [
      "The most common plan is:  premium \n",
      "Most common age group selecting that plan 26-35\n"
     ]
    }
   ],
   "source": [
    "#Which plan is most commonly selected, and by which age group?\n",
    "most_common_plan = df_csv[\"plan_selected\"].value_counts().idxmax()\n",
    "most_common_plan_df = df_csv[df_csv[\"plan_selected\"] == most_common_plan]\n",
    "age_group = pd.cut(df_csv['age'],bins=[0, 25, 35, 45, 60, 100], labels=[\"<25\", \"26-35\", \"36-45\", \"46-60\", \"60+\"])\n",
    "most_common_age_group = pd.cut(most_common_plan_df['age'], bins=[0, 25, 35, 45, 60, 100], labels=[\"<25\", \"26-35\", \"36-45\", \"46-60\", \"60+\"]).value_counts().idxmax()\n",
    "print(\"The most common plan is: \",most_common_plan,\"\\nMost common age group selecting that plan\", most_common_age_group)"
   ]
  },
  {
   "cell_type": "code",
   "execution_count": 311,
   "id": "c6d6be53",
   "metadata": {},
   "outputs": [
    {
     "name": "stderr",
     "output_type": "stream",
     "text": [
      "C:\\Users\\feras\\AppData\\Local\\Temp\\ipykernel_16828\\2052864370.py:3: UserWarning: Parsing dates in %Y-%m-%d format when dayfirst=True was specified. Pass `dayfirst=False` or specify a format to silence this warning.\n",
      "  df_tickits[\"ticket_date\"]= pd.to_datetime(df_tickits[\"ticket_date\"],dayfirst=True)\n"
     ]
    }
   ],
   "source": [
    "#Load the support_tickets.csv dataset\n",
    "df_tickits = pd.read_csv(\"support_tickets.csv\")\n",
    "df_tickits[\"ticket_date\"]= pd.to_datetime(df_tickits[\"ticket_date\"],dayfirst=True)"
   ]
  },
  {
   "cell_type": "code",
   "execution_count": 312,
   "id": "ad5119b3",
   "metadata": {},
   "outputs": [],
   "source": [
    "#Join it to customer_signups.csv on customer_id\n",
    "merged_df = pd.merge(df_tickits,df_csv,on=\"customer_id\",how=\"left\")\n"
   ]
  },
  {
   "cell_type": "code",
   "execution_count": 313,
   "id": "7f22721c",
   "metadata": {},
   "outputs": [
    {
     "name": "stdout",
     "output_type": "stream",
     "text": [
      "Number of customers who contacted support within 2 weeks of sign-up: 47\n"
     ]
    }
   ],
   "source": [
    "#Count how many customers contacted support within 2 weeks of sign-up\n",
    "merged_df[\"days_since_signup\"]=(merged_df[\"ticket_date\"]-merged_df[\"signup_date\"]).dt.days\n",
    "in2weeks = merged_df[merged_df[\"days_since_signup\"]<=14]\n",
    "num_customers = in2weeks[\"customer_id\"].nunique()\n",
    "print(\"Number of customers who contacted support within 2 weeks of sign-up:\", num_customers)\n"
   ]
  },
  {
   "cell_type": "code",
   "execution_count": 314,
   "id": "2846fa5b",
   "metadata": {},
   "outputs": [
    {
     "name": "stdout",
     "output_type": "stream",
     "text": [
      "   plan_selected   region  ticket_count\n",
      "0          basic  central             2\n",
      "1          basic     east            11\n",
      "2          basic    north             3\n",
      "3          basic    south            14\n",
      "4          basic  unknown             2\n",
      "5          basic     west            10\n",
      "6        premium  central             6\n",
      "7        premium     east             1\n",
      "8        premium    north             6\n",
      "9        premium    south             2\n",
      "10       premium     west            11\n",
      "11           pro  central            10\n",
      "12           pro     east            14\n",
      "13           pro    north            11\n",
      "14           pro    south             3\n",
      "15           pro  unknown             3\n",
      "16           pro     west             6\n",
      "17   unknownplan    north             4\n"
     ]
    }
   ],
   "source": [
    "#Summarise support activity by plan and region (Group by plan and region)\n",
    "support_summary = merged_df.groupby([\"plan_selected\", \"region\"]).size().reset_index(name=\"ticket_count\")\n",
    "print(support_summary)"
   ]
  },
  {
   "cell_type": "code",
   "execution_count": 315,
   "id": "448e04bc",
   "metadata": {},
   "outputs": [
    {
     "name": "stdout",
     "output_type": "stream",
     "text": [
      "plan_selected\n",
      "basic          20\n",
      "premium        12\n",
      "pro            24\n",
      "unknownplan     2\n",
      "Name: customer_id, dtype: int64\n"
     ]
    }
   ],
   "source": [
    "#Which plan’s users are most likely to contact support?\n",
    "supportCustomerPerPlan = merged_df.groupby(\"plan_selected\")[\"customer_id\"].nunique()\n",
    "\n",
    "print(supportCustomerPerPlan)"
   ]
  },
  {
   "cell_type": "code",
   "execution_count": 316,
   "id": "a7464942",
   "metadata": {},
   "outputs": [
    {
     "data": {
      "text/html": [
       "<div>\n",
       "<style scoped>\n",
       "    .dataframe tbody tr th:only-of-type {\n",
       "        vertical-align: middle;\n",
       "    }\n",
       "\n",
       "    .dataframe tbody tr th {\n",
       "        vertical-align: top;\n",
       "    }\n",
       "\n",
       "    .dataframe thead th {\n",
       "        text-align: right;\n",
       "    }\n",
       "</style>\n",
       "<table border=\"1\" class=\"dataframe\">\n",
       "  <thead>\n",
       "    <tr style=\"text-align: right;\">\n",
       "      <th></th>\n",
       "      <th>customer_id</th>\n",
       "      <th>name</th>\n",
       "      <th>email</th>\n",
       "      <th>signup_date</th>\n",
       "      <th>source</th>\n",
       "      <th>region</th>\n",
       "      <th>plan_selected</th>\n",
       "      <th>marketing_opt_in</th>\n",
       "      <th>age</th>\n",
       "      <th>gender</th>\n",
       "    </tr>\n",
       "  </thead>\n",
       "  <tbody>\n",
       "    <tr>\n",
       "      <th>1</th>\n",
       "      <td>CUST00001</td>\n",
       "      <td>Nicole Stewart</td>\n",
       "      <td>nicole1@example.com</td>\n",
       "      <td>2024-02-01</td>\n",
       "      <td>linkedin</td>\n",
       "      <td>west</td>\n",
       "      <td>basic</td>\n",
       "      <td>yes</td>\n",
       "      <td>29.0</td>\n",
       "      <td>male</td>\n",
       "    </tr>\n",
       "    <tr>\n",
       "      <th>2</th>\n",
       "      <td>CUST00002</td>\n",
       "      <td>Rachel Allen</td>\n",
       "      <td>rachel2@example.com</td>\n",
       "      <td>2024-03-01</td>\n",
       "      <td>google</td>\n",
       "      <td>north</td>\n",
       "      <td>premium</td>\n",
       "      <td>yes</td>\n",
       "      <td>34.0</td>\n",
       "      <td>non-binary</td>\n",
       "    </tr>\n",
       "    <tr>\n",
       "      <th>3</th>\n",
       "      <td>CUST00003</td>\n",
       "      <td>Zachary Sanchez</td>\n",
       "      <td>zachary3@mailhub.org</td>\n",
       "      <td>2024-04-01</td>\n",
       "      <td>youtube</td>\n",
       "      <td>unknown</td>\n",
       "      <td>pro</td>\n",
       "      <td>no</td>\n",
       "      <td>40.0</td>\n",
       "      <td>male</td>\n",
       "    </tr>\n",
       "    <tr>\n",
       "      <th>4</th>\n",
       "      <td>CUST00004</td>\n",
       "      <td>NaN</td>\n",
       "      <td>matthew4@mailhub.org</td>\n",
       "      <td>2024-05-01</td>\n",
       "      <td>linkedin</td>\n",
       "      <td>west</td>\n",
       "      <td>premium</td>\n",
       "      <td>no</td>\n",
       "      <td>25.0</td>\n",
       "      <td>other</td>\n",
       "    </tr>\n",
       "    <tr>\n",
       "      <th>5</th>\n",
       "      <td>CUST00005</td>\n",
       "      <td>John Gonzales</td>\n",
       "      <td>john5@mailhub.org</td>\n",
       "      <td>2024-06-01</td>\n",
       "      <td>facebook</td>\n",
       "      <td>south</td>\n",
       "      <td>premium</td>\n",
       "      <td>no</td>\n",
       "      <td>34.0</td>\n",
       "      <td>other</td>\n",
       "    </tr>\n",
       "    <tr>\n",
       "      <th>...</th>\n",
       "      <td>...</td>\n",
       "      <td>...</td>\n",
       "      <td>...</td>\n",
       "      <td>...</td>\n",
       "      <td>...</td>\n",
       "      <td>...</td>\n",
       "      <td>...</td>\n",
       "      <td>...</td>\n",
       "      <td>...</td>\n",
       "      <td>...</td>\n",
       "    </tr>\n",
       "    <tr>\n",
       "      <th>117</th>\n",
       "      <td>CUST00117</td>\n",
       "      <td>Ashley Stokes</td>\n",
       "      <td>NaN</td>\n",
       "      <td>2024-04-27</td>\n",
       "      <td>youtube</td>\n",
       "      <td>east</td>\n",
       "      <td>basic</td>\n",
       "      <td>no</td>\n",
       "      <td>29.0</td>\n",
       "      <td>other</td>\n",
       "    </tr>\n",
       "    <tr>\n",
       "      <th>118</th>\n",
       "      <td>CUST00118</td>\n",
       "      <td>Joseph Santiago</td>\n",
       "      <td>joseph18@example.com</td>\n",
       "      <td>2024-04-28</td>\n",
       "      <td>referral</td>\n",
       "      <td>north</td>\n",
       "      <td>basic</td>\n",
       "      <td>yes</td>\n",
       "      <td>34.0</td>\n",
       "      <td>female</td>\n",
       "    </tr>\n",
       "    <tr>\n",
       "      <th>119</th>\n",
       "      <td>CUST00119</td>\n",
       "      <td>Rachel Kelley</td>\n",
       "      <td>rachel19@mailhub.org</td>\n",
       "      <td>2024-04-29</td>\n",
       "      <td>referral</td>\n",
       "      <td>north</td>\n",
       "      <td>pro</td>\n",
       "      <td>NaN</td>\n",
       "      <td>47.0</td>\n",
       "      <td>other</td>\n",
       "    </tr>\n",
       "    <tr>\n",
       "      <th>121</th>\n",
       "      <td>CUST00121</td>\n",
       "      <td>Carolyn Castro</td>\n",
       "      <td>carolyn21@mailhub.org</td>\n",
       "      <td>2024-01-05</td>\n",
       "      <td>youtube</td>\n",
       "      <td>unknown</td>\n",
       "      <td>basic</td>\n",
       "      <td>yes</td>\n",
       "      <td>34.0</td>\n",
       "      <td>male</td>\n",
       "    </tr>\n",
       "    <tr>\n",
       "      <th>122</th>\n",
       "      <td>CUST00122</td>\n",
       "      <td>Kristine Baker</td>\n",
       "      <td>kristine22@example.com</td>\n",
       "      <td>2024-02-05</td>\n",
       "      <td>referral</td>\n",
       "      <td>south</td>\n",
       "      <td>basic</td>\n",
       "      <td>yes</td>\n",
       "      <td>53.0</td>\n",
       "      <td>other</td>\n",
       "    </tr>\n",
       "  </tbody>\n",
       "</table>\n",
       "<p>120 rows × 10 columns</p>\n",
       "</div>"
      ],
      "text/plain": [
       "    customer_id             name                   email signup_date  \\\n",
       "1     CUST00001   Nicole Stewart     nicole1@example.com  2024-02-01   \n",
       "2     CUST00002     Rachel Allen     rachel2@example.com  2024-03-01   \n",
       "3     CUST00003  Zachary Sanchez    zachary3@mailhub.org  2024-04-01   \n",
       "4     CUST00004              NaN    matthew4@mailhub.org  2024-05-01   \n",
       "5     CUST00005    John Gonzales       john5@mailhub.org  2024-06-01   \n",
       "..          ...              ...                     ...         ...   \n",
       "117   CUST00117    Ashley Stokes                     NaN  2024-04-27   \n",
       "118   CUST00118  Joseph Santiago    joseph18@example.com  2024-04-28   \n",
       "119   CUST00119    Rachel Kelley    rachel19@mailhub.org  2024-04-29   \n",
       "121   CUST00121   Carolyn Castro   carolyn21@mailhub.org  2024-01-05   \n",
       "122   CUST00122   Kristine Baker  kristine22@example.com  2024-02-05   \n",
       "\n",
       "       source   region plan_selected marketing_opt_in   age      gender  \n",
       "1    linkedin     west         basic              yes  29.0        male  \n",
       "2      google    north       premium              yes  34.0  non-binary  \n",
       "3     youtube  unknown           pro               no  40.0        male  \n",
       "4    linkedin     west       premium               no  25.0       other  \n",
       "5    facebook    south       premium               no  34.0       other  \n",
       "..        ...      ...           ...              ...   ...         ...  \n",
       "117   youtube     east         basic               no  29.0       other  \n",
       "118  referral    north         basic              yes  34.0      female  \n",
       "119  referral    north           pro              NaN  47.0       other  \n",
       "121   youtube  unknown         basic              yes  34.0        male  \n",
       "122  referral    south         basic              yes  53.0       other  \n",
       "\n",
       "[120 rows x 10 columns]"
      ]
     },
     "metadata": {},
     "output_type": "display_data"
    }
   ],
   "source": [
    "display(df_csv.head(120))"
   ]
  },
  {
   "cell_type": "code",
   "execution_count": null,
   "id": "7bda65c6",
   "metadata": {},
   "outputs": [],
   "source": []
  }
 ],
 "metadata": {
  "kernelspec": {
   "display_name": "Python 3 (ipykernel)",
   "language": "python",
   "name": "python3"
  },
  "language_info": {
   "codemirror_mode": {
    "name": "ipython",
    "version": 3
   },
   "file_extension": ".py",
   "mimetype": "text/x-python",
   "name": "python",
   "nbconvert_exporter": "python",
   "pygments_lexer": "ipython3",
   "version": "3.11.5"
  }
 },
 "nbformat": 4,
 "nbformat_minor": 5
}
